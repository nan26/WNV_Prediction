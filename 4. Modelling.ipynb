{
 "cells": [
  {
   "cell_type": "code",
   "execution_count": 1,
   "id": "billion-chicken",
   "metadata": {
    "colab": {
     "base_uri": "https://localhost:8080/"
    },
    "executionInfo": {
     "elapsed": 3767,
     "status": "ok",
     "timestamp": 1617802678333,
     "user": {
      "displayName": "arti jariwala",
      "photoUrl": "",
      "userId": "10618144149736080393"
     },
     "user_tz": -480
    },
    "id": "billion-chicken",
    "outputId": "0dc5d81e-69ba-40da-8c25-ce570222fc05"
   },
   "outputs": [],
   "source": [
    "import pandas as pd\n",
    "import numpy as np\n",
    "import matplotlib.pyplot as plt\n",
    "import seaborn as sns\n",
    "from tabulate import tabulate\n",
    "import warnings\n",
    "warnings.filterwarnings(\"ignore\")\n",
    "\n",
    "from sklearn.model_selection import train_test_split, GridSearchCV\n",
    "from sklearn.preprocessing import StandardScaler\n",
    "from imblearn.over_sampling import SMOTE\n",
    "\n",
    "from sklearn.linear_model import LogisticRegression\n",
    "from sklearn.ensemble import RandomForestClassifier, AdaBoostClassifier, ExtraTreesClassifier, GradientBoostingClassifier\n",
    "from sklearn.svm import SVC\n",
    "\n",
    "from sklearn.metrics import roc_auc_score, confusion_matrix,  plot_roc_curve, roc_curve, auc"
   ]
  },
  {
   "cell_type": "markdown",
   "id": "colored-hierarchy",
   "metadata": {
    "id": "colored-hierarchy"
   },
   "source": [
    "## Import Data"
   ]
  },
  {
   "cell_type": "markdown",
   "id": "ISwEl4wuIATO",
   "metadata": {
    "id": "ISwEl4wuIATO"
   },
   "source": [
    "### Train Data"
   ]
  },
  {
   "cell_type": "code",
   "execution_count": 2,
   "id": "manufactured-hartford",
   "metadata": {
    "colab": {
     "base_uri": "https://localhost:8080/",
     "height": 73,
     "resources": {
      "http://localhost:8080/nbextensions/google.colab/files.js": {
       "data": "Ly8gQ29weXJpZ2h0IDIwMTcgR29vZ2xlIExMQwovLwovLyBMaWNlbnNlZCB1bmRlciB0aGUgQXBhY2hlIExpY2Vuc2UsIFZlcnNpb24gMi4wICh0aGUgIkxpY2Vuc2UiKTsKLy8geW91IG1heSBub3QgdXNlIHRoaXMgZmlsZSBleGNlcHQgaW4gY29tcGxpYW5jZSB3aXRoIHRoZSBMaWNlbnNlLgovLyBZb3UgbWF5IG9idGFpbiBhIGNvcHkgb2YgdGhlIExpY2Vuc2UgYXQKLy8KLy8gICAgICBodHRwOi8vd3d3LmFwYWNoZS5vcmcvbGljZW5zZXMvTElDRU5TRS0yLjAKLy8KLy8gVW5sZXNzIHJlcXVpcmVkIGJ5IGFwcGxpY2FibGUgbGF3IG9yIGFncmVlZCB0byBpbiB3cml0aW5nLCBzb2Z0d2FyZQovLyBkaXN0cmlidXRlZCB1bmRlciB0aGUgTGljZW5zZSBpcyBkaXN0cmlidXRlZCBvbiBhbiAiQVMgSVMiIEJBU0lTLAovLyBXSVRIT1VUIFdBUlJBTlRJRVMgT1IgQ09ORElUSU9OUyBPRiBBTlkgS0lORCwgZWl0aGVyIGV4cHJlc3Mgb3IgaW1wbGllZC4KLy8gU2VlIHRoZSBMaWNlbnNlIGZvciB0aGUgc3BlY2lmaWMgbGFuZ3VhZ2UgZ292ZXJuaW5nIHBlcm1pc3Npb25zIGFuZAovLyBsaW1pdGF0aW9ucyB1bmRlciB0aGUgTGljZW5zZS4KCi8qKgogKiBAZmlsZW92ZXJ2aWV3IEhlbHBlcnMgZm9yIGdvb2dsZS5jb2xhYiBQeXRob24gbW9kdWxlLgogKi8KKGZ1bmN0aW9uKHNjb3BlKSB7CmZ1bmN0aW9uIHNwYW4odGV4dCwgc3R5bGVBdHRyaWJ1dGVzID0ge30pIHsKICBjb25zdCBlbGVtZW50ID0gZG9jdW1lbnQuY3JlYXRlRWxlbWVudCgnc3BhbicpOwogIGVsZW1lbnQudGV4dENvbnRlbnQgPSB0ZXh0OwogIGZvciAoY29uc3Qga2V5IG9mIE9iamVjdC5rZXlzKHN0eWxlQXR0cmlidXRlcykpIHsKICAgIGVsZW1lbnQuc3R5bGVba2V5XSA9IHN0eWxlQXR0cmlidXRlc1trZXldOwogIH0KICByZXR1cm4gZWxlbWVudDsKfQoKLy8gTWF4IG51bWJlciBvZiBieXRlcyB3aGljaCB3aWxsIGJlIHVwbG9hZGVkIGF0IGEgdGltZS4KY29uc3QgTUFYX1BBWUxPQURfU0laRSA9IDEwMCAqIDEwMjQ7CgpmdW5jdGlvbiBfdXBsb2FkRmlsZXMoaW5wdXRJZCwgb3V0cHV0SWQpIHsKICBjb25zdCBzdGVwcyA9IHVwbG9hZEZpbGVzU3RlcChpbnB1dElkLCBvdXRwdXRJZCk7CiAgY29uc3Qgb3V0cHV0RWxlbWVudCA9IGRvY3VtZW50LmdldEVsZW1lbnRCeUlkKG91dHB1dElkKTsKICAvLyBDYWNoZSBzdGVwcyBvbiB0aGUgb3V0cHV0RWxlbWVudCB0byBtYWtlIGl0IGF2YWlsYWJsZSBmb3IgdGhlIG5leHQgY2FsbAogIC8vIHRvIHVwbG9hZEZpbGVzQ29udGludWUgZnJvbSBQeXRob24uCiAgb3V0cHV0RWxlbWVudC5zdGVwcyA9IHN0ZXBzOwoKICByZXR1cm4gX3VwbG9hZEZpbGVzQ29udGludWUob3V0cHV0SWQpOwp9CgovLyBUaGlzIGlzIHJvdWdobHkgYW4gYXN5bmMgZ2VuZXJhdG9yIChub3Qgc3VwcG9ydGVkIGluIHRoZSBicm93c2VyIHlldCksCi8vIHdoZXJlIHRoZXJlIGFyZSBtdWx0aXBsZSBhc3luY2hyb25vdXMgc3RlcHMgYW5kIHRoZSBQeXRob24gc2lkZSBpcyBnb2luZwovLyB0byBwb2xsIGZvciBjb21wbGV0aW9uIG9mIGVhY2ggc3RlcC4KLy8gVGhpcyB1c2VzIGEgUHJvbWlzZSB0byBibG9jayB0aGUgcHl0aG9uIHNpZGUgb24gY29tcGxldGlvbiBvZiBlYWNoIHN0ZXAsCi8vIHRoZW4gcGFzc2VzIHRoZSByZXN1bHQgb2YgdGhlIHByZXZpb3VzIHN0ZXAgYXMgdGhlIGlucHV0IHRvIHRoZSBuZXh0IHN0ZXAuCmZ1bmN0aW9uIF91cGxvYWRGaWxlc0NvbnRpbnVlKG91dHB1dElkKSB7CiAgY29uc3Qgb3V0cHV0RWxlbWVudCA9IGRvY3VtZW50LmdldEVsZW1lbnRCeUlkKG91dHB1dElkKTsKICBjb25zdCBzdGVwcyA9IG91dHB1dEVsZW1lbnQuc3RlcHM7CgogIGNvbnN0IG5leHQgPSBzdGVwcy5uZXh0KG91dHB1dEVsZW1lbnQubGFzdFByb21pc2VWYWx1ZSk7CiAgcmV0dXJuIFByb21pc2UucmVzb2x2ZShuZXh0LnZhbHVlLnByb21pc2UpLnRoZW4oKHZhbHVlKSA9PiB7CiAgICAvLyBDYWNoZSB0aGUgbGFzdCBwcm9taXNlIHZhbHVlIHRvIG1ha2UgaXQgYXZhaWxhYmxlIHRvIHRoZSBuZXh0CiAgICAvLyBzdGVwIG9mIHRoZSBnZW5lcmF0b3IuCiAgICBvdXRwdXRFbGVtZW50Lmxhc3RQcm9taXNlVmFsdWUgPSB2YWx1ZTsKICAgIHJldHVybiBuZXh0LnZhbHVlLnJlc3BvbnNlOwogIH0pOwp9CgovKioKICogR2VuZXJhdG9yIGZ1bmN0aW9uIHdoaWNoIGlzIGNhbGxlZCBiZXR3ZWVuIGVhY2ggYXN5bmMgc3RlcCBvZiB0aGUgdXBsb2FkCiAqIHByb2Nlc3MuCiAqIEBwYXJhbSB7c3RyaW5nfSBpbnB1dElkIEVsZW1lbnQgSUQgb2YgdGhlIGlucHV0IGZpbGUgcGlja2VyIGVsZW1lbnQuCiAqIEBwYXJhbSB7c3RyaW5nfSBvdXRwdXRJZCBFbGVtZW50IElEIG9mIHRoZSBvdXRwdXQgZGlzcGxheS4KICogQHJldHVybiB7IUl0ZXJhYmxlPCFPYmplY3Q+fSBJdGVyYWJsZSBvZiBuZXh0IHN0ZXBzLgogKi8KZnVuY3Rpb24qIHVwbG9hZEZpbGVzU3RlcChpbnB1dElkLCBvdXRwdXRJZCkgewogIGNvbnN0IGlucHV0RWxlbWVudCA9IGRvY3VtZW50LmdldEVsZW1lbnRCeUlkKGlucHV0SWQpOwogIGlucHV0RWxlbWVudC5kaXNhYmxlZCA9IGZhbHNlOwoKICBjb25zdCBvdXRwdXRFbGVtZW50ID0gZG9jdW1lbnQuZ2V0RWxlbWVudEJ5SWQob3V0cHV0SWQpOwogIG91dHB1dEVsZW1lbnQuaW5uZXJIVE1MID0gJyc7CgogIGNvbnN0IHBpY2tlZFByb21pc2UgPSBuZXcgUHJvbWlzZSgocmVzb2x2ZSkgPT4gewogICAgaW5wdXRFbGVtZW50LmFkZEV2ZW50TGlzdGVuZXIoJ2NoYW5nZScsIChlKSA9PiB7CiAgICAgIHJlc29sdmUoZS50YXJnZXQuZmlsZXMpOwogICAgfSk7CiAgfSk7CgogIGNvbnN0IGNhbmNlbCA9IGRvY3VtZW50LmNyZWF0ZUVsZW1lbnQoJ2J1dHRvbicpOwogIGlucHV0RWxlbWVudC5wYXJlbnRFbGVtZW50LmFwcGVuZENoaWxkKGNhbmNlbCk7CiAgY2FuY2VsLnRleHRDb250ZW50ID0gJ0NhbmNlbCB1cGxvYWQnOwogIGNvbnN0IGNhbmNlbFByb21pc2UgPSBuZXcgUHJvbWlzZSgocmVzb2x2ZSkgPT4gewogICAgY2FuY2VsLm9uY2xpY2sgPSAoKSA9PiB7CiAgICAgIHJlc29sdmUobnVsbCk7CiAgICB9OwogIH0pOwoKICAvLyBXYWl0IGZvciB0aGUgdXNlciB0byBwaWNrIHRoZSBmaWxlcy4KICBjb25zdCBmaWxlcyA9IHlpZWxkIHsKICAgIHByb21pc2U6IFByb21pc2UucmFjZShbcGlja2VkUHJvbWlzZSwgY2FuY2VsUHJvbWlzZV0pLAogICAgcmVzcG9uc2U6IHsKICAgICAgYWN0aW9uOiAnc3RhcnRpbmcnLAogICAgfQogIH07CgogIGNhbmNlbC5yZW1vdmUoKTsKCiAgLy8gRGlzYWJsZSB0aGUgaW5wdXQgZWxlbWVudCBzaW5jZSBmdXJ0aGVyIHBpY2tzIGFyZSBub3QgYWxsb3dlZC4KICBpbnB1dEVsZW1lbnQuZGlzYWJsZWQgPSB0cnVlOwoKICBpZiAoIWZpbGVzKSB7CiAgICByZXR1cm4gewogICAgICByZXNwb25zZTogewogICAgICAgIGFjdGlvbjogJ2NvbXBsZXRlJywKICAgICAgfQogICAgfTsKICB9CgogIGZvciAoY29uc3QgZmlsZSBvZiBmaWxlcykgewogICAgY29uc3QgbGkgPSBkb2N1bWVudC5jcmVhdGVFbGVtZW50KCdsaScpOwogICAgbGkuYXBwZW5kKHNwYW4oZmlsZS5uYW1lLCB7Zm9udFdlaWdodDogJ2JvbGQnfSkpOwogICAgbGkuYXBwZW5kKHNwYW4oCiAgICAgICAgYCgke2ZpbGUudHlwZSB8fCAnbi9hJ30pIC0gJHtmaWxlLnNpemV9IGJ5dGVzLCBgICsKICAgICAgICBgbGFzdCBtb2RpZmllZDogJHsKICAgICAgICAgICAgZmlsZS5sYXN0TW9kaWZpZWREYXRlID8gZmlsZS5sYXN0TW9kaWZpZWREYXRlLnRvTG9jYWxlRGF0ZVN0cmluZygpIDoKICAgICAgICAgICAgICAgICAgICAgICAgICAgICAgICAgICAgJ24vYSd9IC0gYCkpOwogICAgY29uc3QgcGVyY2VudCA9IHNwYW4oJzAlIGRvbmUnKTsKICAgIGxpLmFwcGVuZENoaWxkKHBlcmNlbnQpOwoKICAgIG91dHB1dEVsZW1lbnQuYXBwZW5kQ2hpbGQobGkpOwoKICAgIGNvbnN0IGZpbGVEYXRhUHJvbWlzZSA9IG5ldyBQcm9taXNlKChyZXNvbHZlKSA9PiB7CiAgICAgIGNvbnN0IHJlYWRlciA9IG5ldyBGaWxlUmVhZGVyKCk7CiAgICAgIHJlYWRlci5vbmxvYWQgPSAoZSkgPT4gewogICAgICAgIHJlc29sdmUoZS50YXJnZXQucmVzdWx0KTsKICAgICAgfTsKICAgICAgcmVhZGVyLnJlYWRBc0FycmF5QnVmZmVyKGZpbGUpOwogICAgfSk7CiAgICAvLyBXYWl0IGZvciB0aGUgZGF0YSB0byBiZSByZWFkeS4KICAgIGxldCBmaWxlRGF0YSA9IHlpZWxkIHsKICAgICAgcHJvbWlzZTogZmlsZURhdGFQcm9taXNlLAogICAgICByZXNwb25zZTogewogICAgICAgIGFjdGlvbjogJ2NvbnRpbnVlJywKICAgICAgfQogICAgfTsKCiAgICAvLyBVc2UgYSBjaHVua2VkIHNlbmRpbmcgdG8gYXZvaWQgbWVzc2FnZSBzaXplIGxpbWl0cy4gU2VlIGIvNjIxMTU2NjAuCiAgICBsZXQgcG9zaXRpb24gPSAwOwogICAgd2hpbGUgKHBvc2l0aW9uIDwgZmlsZURhdGEuYnl0ZUxlbmd0aCkgewogICAgICBjb25zdCBsZW5ndGggPSBNYXRoLm1pbihmaWxlRGF0YS5ieXRlTGVuZ3RoIC0gcG9zaXRpb24sIE1BWF9QQVlMT0FEX1NJWkUpOwogICAgICBjb25zdCBjaHVuayA9IG5ldyBVaW50OEFycmF5KGZpbGVEYXRhLCBwb3NpdGlvbiwgbGVuZ3RoKTsKICAgICAgcG9zaXRpb24gKz0gbGVuZ3RoOwoKICAgICAgY29uc3QgYmFzZTY0ID0gYnRvYShTdHJpbmcuZnJvbUNoYXJDb2RlLmFwcGx5KG51bGwsIGNodW5rKSk7CiAgICAgIHlpZWxkIHsKICAgICAgICByZXNwb25zZTogewogICAgICAgICAgYWN0aW9uOiAnYXBwZW5kJywKICAgICAgICAgIGZpbGU6IGZpbGUubmFtZSwKICAgICAgICAgIGRhdGE6IGJhc2U2NCwKICAgICAgICB9LAogICAgICB9OwogICAgICBwZXJjZW50LnRleHRDb250ZW50ID0KICAgICAgICAgIGAke01hdGgucm91bmQoKHBvc2l0aW9uIC8gZmlsZURhdGEuYnl0ZUxlbmd0aCkgKiAxMDApfSUgZG9uZWA7CiAgICB9CiAgfQoKICAvLyBBbGwgZG9uZS4KICB5aWVsZCB7CiAgICByZXNwb25zZTogewogICAgICBhY3Rpb246ICdjb21wbGV0ZScsCiAgICB9CiAgfTsKfQoKc2NvcGUuZ29vZ2xlID0gc2NvcGUuZ29vZ2xlIHx8IHt9OwpzY29wZS5nb29nbGUuY29sYWIgPSBzY29wZS5nb29nbGUuY29sYWIgfHwge307CnNjb3BlLmdvb2dsZS5jb2xhYi5fZmlsZXMgPSB7CiAgX3VwbG9hZEZpbGVzLAogIF91cGxvYWRGaWxlc0NvbnRpbnVlLAp9Owp9KShzZWxmKTsK",
       "headers": [
        [
         "content-type",
         "application/javascript"
        ]
       ],
       "ok": true,
       "status": 200,
       "status_text": ""
      }
     }
    },
    "executionInfo": {
     "elapsed": 64336,
     "status": "ok",
     "timestamp": 1617802744969,
     "user": {
      "displayName": "arti jariwala",
      "photoUrl": "",
      "userId": "10618144149736080393"
     },
     "user_tz": -480
    },
    "id": "manufactured-hartford",
    "outputId": "cc85e2e4-80e5-482c-c7cf-01a70520aa79"
   },
   "outputs": [
    {
     "data": {
      "text/html": [
       "\n",
       "     <input type=\"file\" id=\"files-63e47fbf-48a4-447e-977d-d4a56f4b0c7a\" name=\"files[]\" multiple disabled\n",
       "        style=\"border:none\" />\n",
       "     <output id=\"result-63e47fbf-48a4-447e-977d-d4a56f4b0c7a\">\n",
       "      Upload widget is only available when the cell has been executed in the\n",
       "      current browser session. Please rerun this cell to enable.\n",
       "      </output>\n",
       "      <script src=\"/nbextensions/google.colab/files.js\"></script> "
      ],
      "text/plain": [
       "<IPython.core.display.HTML object>"
      ]
     },
     "metadata": {
      "tags": []
     },
     "output_type": "display_data"
    },
    {
     "name": "stdout",
     "output_type": "stream",
     "text": [
      "Saving train_weather_FE.csv to train_weather_FE.csv\n"
     ]
    }
   ],
   "source": [
    "from google.colab import files\n",
    "import io\n",
    "\n",
    "upload_train = files.upload()\n",
    "train = pd.read_csv(io.BytesIO(upload_train['train_weather_FE.csv']))\n",
    "#train = pd.read_csv('../Data/train_modeling.csv')"
   ]
  },
  {
   "cell_type": "code",
   "execution_count": 3,
   "id": "apparent-america",
   "metadata": {
    "colab": {
     "base_uri": "https://localhost:8080/",
     "height": 305
    },
    "executionInfo": {
     "elapsed": 1353,
     "status": "ok",
     "timestamp": 1617802796143,
     "user": {
      "displayName": "arti jariwala",
      "photoUrl": "",
      "userId": "10618144149736080393"
     },
     "user_tz": -480
    },
    "id": "apparent-america",
    "outputId": "83354452-eac0-462e-fa31-0a5aa8a1664d"
   },
   "outputs": [
    {
     "data": {
      "text/html": [
       "<div>\n",
       "<style scoped>\n",
       "    .dataframe tbody tr th:only-of-type {\n",
       "        vertical-align: middle;\n",
       "    }\n",
       "\n",
       "    .dataframe tbody tr th {\n",
       "        vertical-align: top;\n",
       "    }\n",
       "\n",
       "    .dataframe thead th {\n",
       "        text-align: right;\n",
       "    }\n",
       "</style>\n",
       "<table border=\"1\" class=\"dataframe\">\n",
       "  <thead>\n",
       "    <tr style=\"text-align: right;\">\n",
       "      <th></th>\n",
       "      <th>Date</th>\n",
       "      <th>Latitude</th>\n",
       "      <th>Longitude</th>\n",
       "      <th>WnvPresent</th>\n",
       "      <th>week_of_year</th>\n",
       "      <th>dist_to_stat_1</th>\n",
       "      <th>dist_to_stat_2</th>\n",
       "      <th>infection_rate</th>\n",
       "      <th>('high_rate',)</th>\n",
       "      <th>('north_high',)</th>\n",
       "      <th>('north_low',)</th>\n",
       "      <th>('south_high',)</th>\n",
       "      <th>('south_low',)</th>\n",
       "      <th>Heat</th>\n",
       "      <th>Cool</th>\n",
       "      <th>Depart</th>\n",
       "      <th>Sunset</th>\n",
       "      <th>Sunrise</th>\n",
       "      <th>DarkHours</th>\n",
       "      <th>Tavg_Rol7</th>\n",
       "      <th>DewPoint_Rol7</th>\n",
       "      <th>WetBulb_Rol7</th>\n",
       "      <th>RelHumidity_Rol7</th>\n",
       "      <th>AvgSpeed_Rol7</th>\n",
       "    </tr>\n",
       "  </thead>\n",
       "  <tbody>\n",
       "    <tr>\n",
       "      <th>0</th>\n",
       "      <td>2007-05-29</td>\n",
       "      <td>41.95469</td>\n",
       "      <td>-87.800991</td>\n",
       "      <td>0</td>\n",
       "      <td>22</td>\n",
       "      <td>0.138026</td>\n",
       "      <td>0.17566</td>\n",
       "      <td>0.0</td>\n",
       "      <td>0.0</td>\n",
       "      <td>0.0</td>\n",
       "      <td>0.0</td>\n",
       "      <td>1.0</td>\n",
       "      <td>0.0</td>\n",
       "      <td>0.0</td>\n",
       "      <td>10.5</td>\n",
       "      <td>10</td>\n",
       "      <td>19.283333</td>\n",
       "      <td>4.350000</td>\n",
       "      <td>9.066667</td>\n",
       "      <td>70.357143</td>\n",
       "      <td>55.857143</td>\n",
       "      <td>61.785714</td>\n",
       "      <td>0.644578</td>\n",
       "      <td>7.864286</td>\n",
       "    </tr>\n",
       "    <tr>\n",
       "      <th>1</th>\n",
       "      <td>2007-05-29</td>\n",
       "      <td>41.95469</td>\n",
       "      <td>-87.800991</td>\n",
       "      <td>0</td>\n",
       "      <td>22</td>\n",
       "      <td>0.138026</td>\n",
       "      <td>0.17566</td>\n",
       "      <td>0.0</td>\n",
       "      <td>0.0</td>\n",
       "      <td>0.0</td>\n",
       "      <td>0.0</td>\n",
       "      <td>1.0</td>\n",
       "      <td>0.0</td>\n",
       "      <td>0.0</td>\n",
       "      <td>10.5</td>\n",
       "      <td>10</td>\n",
       "      <td>19.283333</td>\n",
       "      <td>4.350000</td>\n",
       "      <td>9.066667</td>\n",
       "      <td>70.357143</td>\n",
       "      <td>55.857143</td>\n",
       "      <td>61.785714</td>\n",
       "      <td>0.644578</td>\n",
       "      <td>7.864286</td>\n",
       "    </tr>\n",
       "    <tr>\n",
       "      <th>2</th>\n",
       "      <td>2007-06-05</td>\n",
       "      <td>41.95469</td>\n",
       "      <td>-87.800991</td>\n",
       "      <td>0</td>\n",
       "      <td>23</td>\n",
       "      <td>0.138026</td>\n",
       "      <td>0.17566</td>\n",
       "      <td>0.0</td>\n",
       "      <td>0.0</td>\n",
       "      <td>0.0</td>\n",
       "      <td>0.0</td>\n",
       "      <td>1.0</td>\n",
       "      <td>0.0</td>\n",
       "      <td>8.5</td>\n",
       "      <td>0.0</td>\n",
       "      <td>-9</td>\n",
       "      <td>19.383333</td>\n",
       "      <td>4.283333</td>\n",
       "      <td>8.900000</td>\n",
       "      <td>68.142857</td>\n",
       "      <td>55.714286</td>\n",
       "      <td>61.000000</td>\n",
       "      <td>0.685041</td>\n",
       "      <td>11.214286</td>\n",
       "    </tr>\n",
       "    <tr>\n",
       "      <th>3</th>\n",
       "      <td>2007-06-05</td>\n",
       "      <td>41.95469</td>\n",
       "      <td>-87.800991</td>\n",
       "      <td>0</td>\n",
       "      <td>23</td>\n",
       "      <td>0.138026</td>\n",
       "      <td>0.17566</td>\n",
       "      <td>0.0</td>\n",
       "      <td>0.0</td>\n",
       "      <td>0.0</td>\n",
       "      <td>0.0</td>\n",
       "      <td>1.0</td>\n",
       "      <td>0.0</td>\n",
       "      <td>8.5</td>\n",
       "      <td>0.0</td>\n",
       "      <td>-9</td>\n",
       "      <td>19.383333</td>\n",
       "      <td>4.283333</td>\n",
       "      <td>8.900000</td>\n",
       "      <td>68.142857</td>\n",
       "      <td>55.714286</td>\n",
       "      <td>61.000000</td>\n",
       "      <td>0.685041</td>\n",
       "      <td>11.214286</td>\n",
       "    </tr>\n",
       "    <tr>\n",
       "      <th>4</th>\n",
       "      <td>2007-06-05</td>\n",
       "      <td>41.95469</td>\n",
       "      <td>-87.800991</td>\n",
       "      <td>0</td>\n",
       "      <td>23</td>\n",
       "      <td>0.138026</td>\n",
       "      <td>0.17566</td>\n",
       "      <td>0.0</td>\n",
       "      <td>0.0</td>\n",
       "      <td>0.0</td>\n",
       "      <td>0.0</td>\n",
       "      <td>1.0</td>\n",
       "      <td>0.0</td>\n",
       "      <td>8.5</td>\n",
       "      <td>0.0</td>\n",
       "      <td>-9</td>\n",
       "      <td>19.383333</td>\n",
       "      <td>4.283333</td>\n",
       "      <td>8.900000</td>\n",
       "      <td>68.142857</td>\n",
       "      <td>55.714286</td>\n",
       "      <td>61.000000</td>\n",
       "      <td>0.685041</td>\n",
       "      <td>11.214286</td>\n",
       "    </tr>\n",
       "  </tbody>\n",
       "</table>\n",
       "</div>"
      ],
      "text/plain": [
       "         Date  Latitude  ...  RelHumidity_Rol7  AvgSpeed_Rol7\n",
       "0  2007-05-29  41.95469  ...          0.644578       7.864286\n",
       "1  2007-05-29  41.95469  ...          0.644578       7.864286\n",
       "2  2007-06-05  41.95469  ...          0.685041      11.214286\n",
       "3  2007-06-05  41.95469  ...          0.685041      11.214286\n",
       "4  2007-06-05  41.95469  ...          0.685041      11.214286\n",
       "\n",
       "[5 rows x 24 columns]"
      ]
     },
     "execution_count": 3,
     "metadata": {
      "tags": []
     },
     "output_type": "execute_result"
    }
   ],
   "source": [
    "train.head()"
   ]
  },
  {
   "cell_type": "code",
   "execution_count": 4,
   "id": "stainless-armenia",
   "metadata": {
    "colab": {
     "base_uri": "https://localhost:8080/"
    },
    "executionInfo": {
     "elapsed": 1079,
     "status": "ok",
     "timestamp": 1617802803566,
     "user": {
      "displayName": "arti jariwala",
      "photoUrl": "",
      "userId": "10618144149736080393"
     },
     "user_tz": -480
    },
    "id": "stainless-armenia",
    "outputId": "d20a4455-5d37-4b81-e62e-d34b2e77e73e"
   },
   "outputs": [
    {
     "data": {
      "text/plain": [
       "(8475, 24)"
      ]
     },
     "execution_count": 4,
     "metadata": {
      "tags": []
     },
     "output_type": "execute_result"
    }
   ],
   "source": [
    "train.shape"
   ]
  },
  {
   "cell_type": "code",
   "execution_count": 5,
   "id": "desperate-liquid",
   "metadata": {
    "executionInfo": {
     "elapsed": 1091,
     "status": "ok",
     "timestamp": 1617802805408,
     "user": {
      "displayName": "arti jariwala",
      "photoUrl": "",
      "userId": "10618144149736080393"
     },
     "user_tz": -480
    },
    "id": "desperate-liquid"
   },
   "outputs": [],
   "source": [
    "train.set_index('Date', inplace=True)"
   ]
  },
  {
   "cell_type": "code",
   "execution_count": 6,
   "id": "electric-count",
   "metadata": {
    "colab": {
     "base_uri": "https://localhost:8080/"
    },
    "executionInfo": {
     "elapsed": 924,
     "status": "ok",
     "timestamp": 1617802807356,
     "user": {
      "displayName": "arti jariwala",
      "photoUrl": "",
      "userId": "10618144149736080393"
     },
     "user_tz": -480
    },
    "id": "electric-count",
    "outputId": "1ba3c7a3-c342-4e38-956b-d43f20e88932"
   },
   "outputs": [
    {
     "data": {
      "text/plain": [
       "0    0.946077\n",
       "1    0.053923\n",
       "Name: WnvPresent, dtype: float64"
      ]
     },
     "execution_count": 6,
     "metadata": {
      "tags": []
     },
     "output_type": "execute_result"
    }
   ],
   "source": [
    "train['WnvPresent'].value_counts(normalize=True)"
   ]
  },
  {
   "cell_type": "markdown",
   "id": "unnecessary-adaptation",
   "metadata": {
    "id": "unnecessary-adaptation"
   },
   "source": [
    "### Test Data"
   ]
  },
  {
   "cell_type": "code",
   "execution_count": 7,
   "id": "ranging-engineer",
   "metadata": {
    "colab": {
     "base_uri": "https://localhost:8080/",
     "height": 73,
     "resources": {
      "http://localhost:8080/nbextensions/google.colab/files.js": {
       "data": "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",
       "headers": [
        [
         "content-type",
         "application/javascript"
        ]
       ],
       "ok": true,
       "status": 200,
       "status_text": ""
      }
     }
    },
    "executionInfo": {
     "elapsed": 594503,
     "status": "ok",
     "timestamp": 1617803403703,
     "user": {
      "displayName": "arti jariwala",
      "photoUrl": "",
      "userId": "10618144149736080393"
     },
     "user_tz": -480
    },
    "id": "ranging-engineer",
    "outputId": "b918aa8c-d25d-4461-b3af-968252326ded"
   },
   "outputs": [
    {
     "data": {
      "text/html": [
       "\n",
       "     <input type=\"file\" id=\"files-1dd0d5f1-67a6-4e07-b307-8514c82ae198\" name=\"files[]\" multiple disabled\n",
       "        style=\"border:none\" />\n",
       "     <output id=\"result-1dd0d5f1-67a6-4e07-b307-8514c82ae198\">\n",
       "      Upload widget is only available when the cell has been executed in the\n",
       "      current browser session. Please rerun this cell to enable.\n",
       "      </output>\n",
       "      <script src=\"/nbextensions/google.colab/files.js\"></script> "
      ],
      "text/plain": [
       "<IPython.core.display.HTML object>"
      ]
     },
     "metadata": {
      "tags": []
     },
     "output_type": "display_data"
    },
    {
     "name": "stdout",
     "output_type": "stream",
     "text": [
      "Saving test_weather_FE.csv to test_weather_FE.csv\n"
     ]
    }
   ],
   "source": [
    "upload_test = files.upload()\n",
    "test = pd.read_csv(io.BytesIO(upload_test['test_weather_FE.csv']))\n",
    "#test = pd.read_csv('../Data/test_modeling.csv')"
   ]
  },
  {
   "cell_type": "code",
   "execution_count": 8,
   "id": "apparent-manitoba",
   "metadata": {
    "colab": {
     "base_uri": "https://localhost:8080/",
     "height": 305
    },
    "executionInfo": {
     "elapsed": 1063,
     "status": "ok",
     "timestamp": 1617803428266,
     "user": {
      "displayName": "arti jariwala",
      "photoUrl": "",
      "userId": "10618144149736080393"
     },
     "user_tz": -480
    },
    "id": "apparent-manitoba",
    "outputId": "77703201-7251-48c6-ac98-e4e38c1acddb"
   },
   "outputs": [
    {
     "data": {
      "text/html": [
       "<div>\n",
       "<style scoped>\n",
       "    .dataframe tbody tr th:only-of-type {\n",
       "        vertical-align: middle;\n",
       "    }\n",
       "\n",
       "    .dataframe tbody tr th {\n",
       "        vertical-align: top;\n",
       "    }\n",
       "\n",
       "    .dataframe thead th {\n",
       "        text-align: right;\n",
       "    }\n",
       "</style>\n",
       "<table border=\"1\" class=\"dataframe\">\n",
       "  <thead>\n",
       "    <tr style=\"text-align: right;\">\n",
       "      <th></th>\n",
       "      <th>Date</th>\n",
       "      <th>Id</th>\n",
       "      <th>Latitude</th>\n",
       "      <th>Longitude</th>\n",
       "      <th>week_of_year</th>\n",
       "      <th>dist_to_stat_1</th>\n",
       "      <th>dist_to_stat_2</th>\n",
       "      <th>infection_rate</th>\n",
       "      <th>('high_rate',)</th>\n",
       "      <th>('north_high',)</th>\n",
       "      <th>('north_low',)</th>\n",
       "      <th>('south_high',)</th>\n",
       "      <th>('south_low',)</th>\n",
       "      <th>Heat</th>\n",
       "      <th>Cool</th>\n",
       "      <th>Depart</th>\n",
       "      <th>Sunset</th>\n",
       "      <th>Sunrise</th>\n",
       "      <th>DarkHours</th>\n",
       "      <th>Tavg_Rol7</th>\n",
       "      <th>DewPoint_Rol7</th>\n",
       "      <th>WetBulb_Rol7</th>\n",
       "      <th>RelHumidity_Rol7</th>\n",
       "      <th>AvgSpeed_Rol7</th>\n",
       "    </tr>\n",
       "  </thead>\n",
       "  <tbody>\n",
       "    <tr>\n",
       "      <th>0</th>\n",
       "      <td>2008-06-11</td>\n",
       "      <td>1</td>\n",
       "      <td>41.95469</td>\n",
       "      <td>-87.800991</td>\n",
       "      <td>24</td>\n",
       "      <td>0.138026</td>\n",
       "      <td>0.17566</td>\n",
       "      <td>0.0</td>\n",
       "      <td>0.0</td>\n",
       "      <td>0.0</td>\n",
       "      <td>0.0</td>\n",
       "      <td>1.0</td>\n",
       "      <td>0.0</td>\n",
       "      <td>0.0</td>\n",
       "      <td>10.0</td>\n",
       "      <td>7</td>\n",
       "      <td>19.433333</td>\n",
       "      <td>4.266667</td>\n",
       "      <td>8.833333</td>\n",
       "      <td>74.071429</td>\n",
       "      <td>60.285714</td>\n",
       "      <td>65.642857</td>\n",
       "      <td>0.678617</td>\n",
       "      <td>10.771429</td>\n",
       "    </tr>\n",
       "    <tr>\n",
       "      <th>1</th>\n",
       "      <td>2008-06-11</td>\n",
       "      <td>2</td>\n",
       "      <td>41.95469</td>\n",
       "      <td>-87.800991</td>\n",
       "      <td>24</td>\n",
       "      <td>0.138026</td>\n",
       "      <td>0.17566</td>\n",
       "      <td>0.0</td>\n",
       "      <td>0.0</td>\n",
       "      <td>0.0</td>\n",
       "      <td>0.0</td>\n",
       "      <td>1.0</td>\n",
       "      <td>0.0</td>\n",
       "      <td>0.0</td>\n",
       "      <td>10.0</td>\n",
       "      <td>7</td>\n",
       "      <td>19.433333</td>\n",
       "      <td>4.266667</td>\n",
       "      <td>8.833333</td>\n",
       "      <td>74.071429</td>\n",
       "      <td>60.285714</td>\n",
       "      <td>65.642857</td>\n",
       "      <td>0.678617</td>\n",
       "      <td>10.771429</td>\n",
       "    </tr>\n",
       "    <tr>\n",
       "      <th>2</th>\n",
       "      <td>2008-06-11</td>\n",
       "      <td>3</td>\n",
       "      <td>41.95469</td>\n",
       "      <td>-87.800991</td>\n",
       "      <td>24</td>\n",
       "      <td>0.138026</td>\n",
       "      <td>0.17566</td>\n",
       "      <td>0.0</td>\n",
       "      <td>0.0</td>\n",
       "      <td>0.0</td>\n",
       "      <td>0.0</td>\n",
       "      <td>1.0</td>\n",
       "      <td>0.0</td>\n",
       "      <td>0.0</td>\n",
       "      <td>10.0</td>\n",
       "      <td>7</td>\n",
       "      <td>19.433333</td>\n",
       "      <td>4.266667</td>\n",
       "      <td>8.833333</td>\n",
       "      <td>74.071429</td>\n",
       "      <td>60.285714</td>\n",
       "      <td>65.642857</td>\n",
       "      <td>0.678617</td>\n",
       "      <td>10.771429</td>\n",
       "    </tr>\n",
       "    <tr>\n",
       "      <th>3</th>\n",
       "      <td>2008-06-11</td>\n",
       "      <td>4</td>\n",
       "      <td>41.95469</td>\n",
       "      <td>-87.800991</td>\n",
       "      <td>24</td>\n",
       "      <td>0.138026</td>\n",
       "      <td>0.17566</td>\n",
       "      <td>0.0</td>\n",
       "      <td>0.0</td>\n",
       "      <td>0.0</td>\n",
       "      <td>0.0</td>\n",
       "      <td>1.0</td>\n",
       "      <td>0.0</td>\n",
       "      <td>0.0</td>\n",
       "      <td>10.0</td>\n",
       "      <td>7</td>\n",
       "      <td>19.433333</td>\n",
       "      <td>4.266667</td>\n",
       "      <td>8.833333</td>\n",
       "      <td>74.071429</td>\n",
       "      <td>60.285714</td>\n",
       "      <td>65.642857</td>\n",
       "      <td>0.678617</td>\n",
       "      <td>10.771429</td>\n",
       "    </tr>\n",
       "    <tr>\n",
       "      <th>4</th>\n",
       "      <td>2008-06-11</td>\n",
       "      <td>5</td>\n",
       "      <td>41.95469</td>\n",
       "      <td>-87.800991</td>\n",
       "      <td>24</td>\n",
       "      <td>0.138026</td>\n",
       "      <td>0.17566</td>\n",
       "      <td>0.0</td>\n",
       "      <td>0.0</td>\n",
       "      <td>0.0</td>\n",
       "      <td>0.0</td>\n",
       "      <td>1.0</td>\n",
       "      <td>0.0</td>\n",
       "      <td>0.0</td>\n",
       "      <td>10.0</td>\n",
       "      <td>7</td>\n",
       "      <td>19.433333</td>\n",
       "      <td>4.266667</td>\n",
       "      <td>8.833333</td>\n",
       "      <td>74.071429</td>\n",
       "      <td>60.285714</td>\n",
       "      <td>65.642857</td>\n",
       "      <td>0.678617</td>\n",
       "      <td>10.771429</td>\n",
       "    </tr>\n",
       "  </tbody>\n",
       "</table>\n",
       "</div>"
      ],
      "text/plain": [
       "         Date  Id  Latitude  ...  WetBulb_Rol7  RelHumidity_Rol7  AvgSpeed_Rol7\n",
       "0  2008-06-11   1  41.95469  ...     65.642857          0.678617      10.771429\n",
       "1  2008-06-11   2  41.95469  ...     65.642857          0.678617      10.771429\n",
       "2  2008-06-11   3  41.95469  ...     65.642857          0.678617      10.771429\n",
       "3  2008-06-11   4  41.95469  ...     65.642857          0.678617      10.771429\n",
       "4  2008-06-11   5  41.95469  ...     65.642857          0.678617      10.771429\n",
       "\n",
       "[5 rows x 24 columns]"
      ]
     },
     "execution_count": 8,
     "metadata": {
      "tags": []
     },
     "output_type": "execute_result"
    }
   ],
   "source": [
    "test.head()"
   ]
  },
  {
   "cell_type": "code",
   "execution_count": 9,
   "id": "robust-witness",
   "metadata": {
    "colab": {
     "base_uri": "https://localhost:8080/"
    },
    "executionInfo": {
     "elapsed": 1099,
     "status": "ok",
     "timestamp": 1617803431593,
     "user": {
      "displayName": "arti jariwala",
      "photoUrl": "",
      "userId": "10618144149736080393"
     },
     "user_tz": -480
    },
    "id": "robust-witness",
    "outputId": "3d823850-cb39-4aee-8a95-f0b2ef21f68e"
   },
   "outputs": [
    {
     "data": {
      "text/plain": [
       "(116293, 24)"
      ]
     },
     "execution_count": 9,
     "metadata": {
      "tags": []
     },
     "output_type": "execute_result"
    }
   ],
   "source": [
    "test.shape"
   ]
  },
  {
   "cell_type": "code",
   "execution_count": 10,
   "id": "patent-ebony",
   "metadata": {
    "executionInfo": {
     "elapsed": 833,
     "status": "ok",
     "timestamp": 1617803433121,
     "user": {
      "displayName": "arti jariwala",
      "photoUrl": "",
      "userId": "10618144149736080393"
     },
     "user_tz": -480
    },
    "id": "patent-ebony"
   },
   "outputs": [],
   "source": [
    "test.set_index('Date', inplace=True)"
   ]
  },
  {
   "cell_type": "markdown",
   "id": "sublime-ozone",
   "metadata": {
    "id": "sublime-ozone"
   },
   "source": [
    "## Declaring Features & Target Variable"
   ]
  },
  {
   "cell_type": "code",
   "execution_count": 12,
   "id": "attempted-standard",
   "metadata": {
    "executionInfo": {
     "elapsed": 1160,
     "status": "ok",
     "timestamp": 1617803446984,
     "user": {
      "displayName": "arti jariwala",
      "photoUrl": "",
      "userId": "10618144149736080393"
     },
     "user_tz": -480
    },
    "id": "attempted-standard"
   },
   "outputs": [],
   "source": [
    "X = train.drop(columns=['WnvPresent'])\n",
    "y = train['WnvPresent']"
   ]
  },
  {
   "cell_type": "code",
   "execution_count": 13,
   "id": "small-affair",
   "metadata": {
    "colab": {
     "base_uri": "https://localhost:8080/"
    },
    "executionInfo": {
     "elapsed": 1006,
     "status": "ok",
     "timestamp": 1617803454319,
     "user": {
      "displayName": "arti jariwala",
      "photoUrl": "",
      "userId": "10618144149736080393"
     },
     "user_tz": -480
    },
    "id": "small-affair",
    "outputId": "1b72ec35-925c-4e15-e133-9f41e679cd76"
   },
   "outputs": [
    {
     "name": "stdout",
     "output_type": "stream",
     "text": [
      "(8475, 22) (8475,)\n"
     ]
    }
   ],
   "source": [
    "print(X.shape, y.shape)"
   ]
  },
  {
   "cell_type": "markdown",
   "id": "portable-immunology",
   "metadata": {
    "id": "portable-immunology"
   },
   "source": [
    "## Train/Test Split "
   ]
  },
  {
   "cell_type": "markdown",
   "id": "PLvIO0zsIXDh",
   "metadata": {
    "id": "PLvIO0zsIXDh"
   },
   "source": [
    "We will first split the train data into train and validation dataset. These subsets of data will help in unbiased evaluation of our models."
   ]
  },
  {
   "cell_type": "code",
   "execution_count": 14,
   "id": "correct-psychiatry",
   "metadata": {
    "executionInfo": {
     "elapsed": 1607,
     "status": "ok",
     "timestamp": 1617803459459,
     "user": {
      "displayName": "arti jariwala",
      "photoUrl": "",
      "userId": "10618144149736080393"
     },
     "user_tz": -480
    },
    "id": "correct-psychiatry"
   },
   "outputs": [],
   "source": [
    "X_train, X_val, y_train, y_val = train_test_split(X, \n",
    "                                                  y,\n",
    "                                                  stratify=y, \n",
    "                                                  random_state=42)"
   ]
  },
  {
   "cell_type": "code",
   "execution_count": 15,
   "id": "known-knowing",
   "metadata": {
    "colab": {
     "base_uri": "https://localhost:8080/"
    },
    "executionInfo": {
     "elapsed": 1102,
     "status": "ok",
     "timestamp": 1617803465266,
     "user": {
      "displayName": "arti jariwala",
      "photoUrl": "",
      "userId": "10618144149736080393"
     },
     "user_tz": -480
    },
    "id": "known-knowing",
    "outputId": "28cc7074-7951-446a-c27d-2906e87d62b8"
   },
   "outputs": [
    {
     "name": "stdout",
     "output_type": "stream",
     "text": [
      "(6356, 22) (2119, 22) (6356,) (2119,)\n"
     ]
    }
   ],
   "source": [
    "# checking the shape of both train and val dataset\n",
    "print(X_train.shape, X_val.shape, y_train.shape, y_val.shape)"
   ]
  },
  {
   "cell_type": "code",
   "execution_count": 16,
   "id": "grave-railway",
   "metadata": {
    "colab": {
     "base_uri": "https://localhost:8080/"
    },
    "executionInfo": {
     "elapsed": 1075,
     "status": "ok",
     "timestamp": 1617803468350,
     "user": {
      "displayName": "arti jariwala",
      "photoUrl": "",
      "userId": "10618144149736080393"
     },
     "user_tz": -480
    },
    "id": "grave-railway",
    "outputId": "420dee75-89ad-4d8e-add7-325b6d082c3f"
   },
   "outputs": [
    {
     "data": {
      "text/plain": [
       "Index(['Latitude', 'Longitude', 'week_of_year', 'dist_to_stat_1',\n",
       "       'dist_to_stat_2', 'infection_rate', '('high_rate',)', '('north_high',)',\n",
       "       '('north_low',)', '('south_high',)', '('south_low',)', 'Heat', 'Cool',\n",
       "       'Depart', 'Sunset', 'Sunrise', 'DarkHours', 'Tavg_Rol7',\n",
       "       'DewPoint_Rol7', 'WetBulb_Rol7', 'RelHumidity_Rol7', 'AvgSpeed_Rol7'],\n",
       "      dtype='object')"
      ]
     },
     "execution_count": 16,
     "metadata": {
      "tags": []
     },
     "output_type": "execute_result"
    }
   ],
   "source": [
    "X.columns"
   ]
  },
  {
   "cell_type": "markdown",
   "id": "chubby-annual",
   "metadata": {
    "id": "chubby-annual"
   },
   "source": [
    "## Preprocessing"
   ]
  },
  {
   "cell_type": "markdown",
   "id": "BmViHit2J2mv",
   "metadata": {
    "id": "BmViHit2J2mv"
   },
   "source": [
    "We will perform the following preprocessing steps:\n",
    "- Scaling : StandardScaler is used for scaling the data.\n",
    "- Smoting : As the target classes are imbalanced, we will use SMOTE which will help us synthesize the minor class instances from the existing minor instances. "
   ]
  },
  {
   "cell_type": "code",
   "execution_count": 17,
   "id": "intermediate-bones",
   "metadata": {
    "executionInfo": {
     "elapsed": 1914,
     "status": "ok",
     "timestamp": 1617803489584,
     "user": {
      "displayName": "arti jariwala",
      "photoUrl": "",
      "userId": "10618144149736080393"
     },
     "user_tz": -480
    },
    "id": "intermediate-bones"
   },
   "outputs": [],
   "source": [
    "# scale features\n",
    "\n",
    "ss = StandardScaler()\n",
    "\n",
    "X_train_sc = ss.fit_transform(X_train)\n",
    "X_val_sc = ss.transform(X_val)"
   ]
  },
  {
   "cell_type": "code",
   "execution_count": 18,
   "id": "tropical-disabled",
   "metadata": {
    "colab": {
     "base_uri": "https://localhost:8080/"
    },
    "executionInfo": {
     "elapsed": 1563,
     "status": "ok",
     "timestamp": 1617803492813,
     "user": {
      "displayName": "arti jariwala",
      "photoUrl": "",
      "userId": "10618144149736080393"
     },
     "user_tz": -480
    },
    "id": "tropical-disabled",
    "outputId": "308c4664-65dc-46b3-8181-4be375c64ac2"
   },
   "outputs": [
    {
     "name": "stderr",
     "output_type": "stream",
     "text": [
      "/usr/local/lib/python3.7/dist-packages/sklearn/utils/deprecation.py:87: FutureWarning: Function safe_indexing is deprecated; safe_indexing is deprecated in version 0.22 and will be removed in version 0.24.\n",
      "  warnings.warn(msg, category=FutureWarning)\n"
     ]
    }
   ],
   "source": [
    "# using smote\n",
    "\n",
    "sm = SMOTE(random_state=42)\n",
    "\n",
    "X_train_sm, y_train_sm = sm.fit_sample(X_train_sc, y_train)"
   ]
  },
  {
   "cell_type": "code",
   "execution_count": 20,
   "id": "spoken-impression",
   "metadata": {
    "colab": {
     "base_uri": "https://localhost:8080/"
    },
    "executionInfo": {
     "elapsed": 907,
     "status": "ok",
     "timestamp": 1617803506792,
     "user": {
      "displayName": "arti jariwala",
      "photoUrl": "",
      "userId": "10618144149736080393"
     },
     "user_tz": -480
    },
    "id": "spoken-impression",
    "outputId": "1dc2b389-ae1b-4fa3-810e-eb9b7fb71ca4"
   },
   "outputs": [
    {
     "name": "stdout",
     "output_type": "stream",
     "text": [
      "(12026, 22) (12026,)\n"
     ]
    }
   ],
   "source": [
    "# checking the number of rows & columsn again in train after smoting\n",
    "print(X_train_sm.shape, y_train_sm.shape)"
   ]
  },
  {
   "cell_type": "markdown",
   "id": "4Jh_YZAoLQcW",
   "metadata": {
    "id": "4Jh_YZAoLQcW"
   },
   "source": [
    "After smoting we now have 12026 rows in instead of the initial 8475 rows."
   ]
  },
  {
   "cell_type": "markdown",
   "id": "figured-musical",
   "metadata": {
    "id": "figured-musical"
   },
   "source": [
    "## Modelling"
   ]
  },
  {
   "cell_type": "markdown",
   "id": "h9TweQ2Yndfk",
   "metadata": {
    "id": "h9TweQ2Yndfk"
   },
   "source": [
    "### Model Selection"
   ]
  },
  {
   "cell_type": "markdown",
   "id": "M3AOnFJnnpVw",
   "metadata": {
    "id": "M3AOnFJnnpVw"
   },
   "source": [
    "Here we will run different models and will tune the hyperparameters to further improve the model. In determining the metrics to evaluate the model, we first look at the types of prediction error we could get - Type 1 error and Type 2 error.\n",
    "\n",
    "False Positive Rate(FPR) is the fraction of false alerts based on model predictions which is when model predicting WNV present when it actually is not. From goverment's perspective, should there be infact not a WNV present and spraying efforts were made, it would be inefficient use of resources. And if people were made alarmed that their living area indicated presence of WNV, they may purchase mosquito repellents when they don't actually need to.\n",
    "\n",
    "False Negative Rate(FNR) is the fraction of missed detection based on model predictions which is when model predicting that WNV is not present when it actually is.This might result in the residents not finding the need to buy mosquito repellents or any precautions which might result in an outbreak resulting in high healthcare costs due to this.\n",
    "\n",
    "From the above two types of error, Type 2 is more disastrous than Type 1 error from cost basis as well as from the value of human life. Therefore our model should reduce the False positives as much as possible."
   ]
  },
  {
   "cell_type": "markdown",
   "id": "9hDgkWEBn79g",
   "metadata": {
    "id": "9hDgkWEBn79g"
   },
   "source": [
    "### Scoring Metrics"
   ]
  },
  {
   "cell_type": "markdown",
   "id": "YjR5YfhDnwNO",
   "metadata": {
    "id": "YjR5YfhDnwNO"
   },
   "source": [
    "The precision-recall trade-off shows how to strike a balance between false positive and false negative rates. Precision measures how accurate the model is at estimating positive labels (in this case, the existence of WNV) and is a reasonable criterion to use when the cost of a false positive is greater than the cost of a false negative.\n",
    "\n",
    "Recall calculates the percentage of actual positives a model correctly identified (ie. true positives) and is a good evaluation metric when the cost of false negative is higher than that of false positives, which is in our case.\n",
    "\n",
    "Although recall is more relevant in our case than precision, we cannot disregard precision entirely due to excessive government spending on false positive events. Thus recall is more important than precision but not negligible.\n",
    "\n",
    "We assess our model based on ROC-AUC curve which visualises the trade off between the True-Positive Rate(TPR) and False-Positive Rate(FPR). The better the model, the higher the TPR and the lower the FPR. AUC score of 1 indicates perfect classification, and we try to get a score closer to 1."
   ]
  },
  {
   "cell_type": "code",
   "execution_count": 21,
   "id": "current-filter",
   "metadata": {
    "executionInfo": {
     "elapsed": 978,
     "status": "ok",
     "timestamp": 1617803512481,
     "user": {
      "displayName": "arti jariwala",
      "photoUrl": "",
      "userId": "10618144149736080393"
     },
     "user_tz": -480
    },
    "id": "current-filter"
   },
   "outputs": [],
   "source": [
    "# defining a common function that we will use for modelling\n",
    "\n",
    "def model_builder(model, params):\n",
    "    \n",
    "    # Declaring model metrics that we will return at the end of the function\n",
    "    metrics = {}\n",
    "\n",
    "    # Initialize gridsearch for model based on params passed\n",
    "    gs = GridSearchCV(model, param_grid=params, cv=5, scoring='roc_auc', n_jobs=-1)\n",
    "\n",
    "    # Fit the model\n",
    "    gs.fit(X_train_sm, y_train_sm)\n",
    "\n",
    "    # Best parameters\n",
    "    best_params = gs.best_params_\n",
    "\n",
    "    # Best model\n",
    "    best_model = gs.best_estimator_\n",
    "\n",
    "    # Fit the best model\n",
    "    best_model.fit(X_train_sm, y_train_sm)\n",
    "\n",
    "    # Predic validation set\n",
    "    predictions = best_model.predict(X_val_sc)\n",
    "\n",
    "    # Calculating related metrics\n",
    "    train_pred_prob = best_model.predict_proba(X_train_sm)[:,1]\n",
    "    val_pred_prob = best_model.predict_proba(X_val_sc)[:,1]\n",
    "    roc_auc_train = roc_auc_score(y_train_sm, train_pred_prob)\n",
    "    roc_auc_val = roc_auc_score(y_val, val_pred_prob)\n",
    "    tn, fp, fn, tp = confusion_matrix(y_val, predictions).ravel()\n",
    "    sensitivity = tp/(tp + fn)\n",
    "    specificity = tn/(tn + fp)\n",
    "    accuracy = (tn + tp)/(tn + tp + fn + fp)\n",
    "  \n",
    "    metrics['roc_auc_train'] = roc_auc_train\n",
    "    metrics['roc_auc_val'] = roc_auc_val\n",
    "    metrics['accuracy'] = accuracy\n",
    "    metrics['sensitivity'] = sensitivity\n",
    "    metrics['specificity'] = specificity\n",
    "    metrics['FalsePos'] = fp\n",
    "    metrics['TruePos'] = tp\n",
    "    metrics['FalseNeg'] = fn\n",
    "    metrics['TrueNeg'] = tn\n",
    "  \n",
    "    # Returning best params, model and the metrics\n",
    "    return (best_params, best_model, metrics)"
   ]
  },
  {
   "cell_type": "markdown",
   "id": "informed-venezuela",
   "metadata": {
    "id": "informed-venezuela"
   },
   "source": [
    "### Logistic Regression"
   ]
  },
  {
   "cell_type": "code",
   "execution_count": 37,
   "id": "xhZBn7zL1jWg",
   "metadata": {
    "colab": {
     "base_uri": "https://localhost:8080/"
    },
    "executionInfo": {
     "elapsed": 44383,
     "status": "ok",
     "timestamp": 1617807501742,
     "user": {
      "displayName": "arti jariwala",
      "photoUrl": "",
      "userId": "10618144149736080393"
     },
     "user_tz": -480
    },
    "id": "xhZBn7zL1jWg",
    "outputId": "8a37e760-2d22-4001-a5f8-cf51f2ecff36"
   },
   "outputs": [
    {
     "name": "stdout",
     "output_type": "stream",
     "text": [
      "{'C': 10, 'max_iter': 5000, 'penalty': 'l2', 'random_state': 42, 'solver': 'saga'}\n",
      "{'roc_auc_train': 0.8321184691884806, 'roc_auc_val': 0.8263026643916525, 'accuracy': 0.7083529966965549, 'sensitivity': 0.7543859649122807, 'specificity': 0.7057356608478803, 'FalsePos': 590, 'TruePos': 86, 'FalseNeg': 28, 'TrueNeg': 1415}\n"
     ]
    }
   ],
   "source": [
    "# declare grid search parameters\n",
    "\n",
    "lr_params = {'solver':['saga'], \n",
    "             'penalty':['l1','l2','elasticnet'], \n",
    "             'C':[1, 10, 20],\n",
    "             'max_iter':[5000],\n",
    "             'random_state':[42]\n",
    "            }\n",
    "\n",
    "# Initial the model\n",
    "lr_model = LogisticRegression()\n",
    "\n",
    "best_params_lr, best_model_lr, metrics_lr = model_builder(lr_model, lr_params)\n",
    "\n",
    "print(best_params_lr)\n",
    "print(metrics_lr)"
   ]
  },
  {
   "cell_type": "markdown",
   "id": "VFw5DLWac0V4",
   "metadata": {
    "id": "VFw5DLWac0V4"
   },
   "source": [
    "### Random Forest "
   ]
  },
  {
   "cell_type": "code",
   "execution_count": 23,
   "id": "X9L61RzMdLud",
   "metadata": {
    "colab": {
     "base_uri": "https://localhost:8080/"
    },
    "executionInfo": {
     "elapsed": 43820,
     "status": "ok",
     "timestamp": 1617803612448,
     "user": {
      "displayName": "arti jariwala",
      "photoUrl": "",
      "userId": "10618144149736080393"
     },
     "user_tz": -480
    },
    "id": "X9L61RzMdLud",
    "outputId": "37e8a757-581f-4b88-87ed-c854d9c17aef"
   },
   "outputs": [
    {
     "name": "stdout",
     "output_type": "stream",
     "text": [
      "{'class_weight': 'balanced', 'max_depth': 6, 'n_estimators': 100, 'random_state': 42}\n",
      "{'roc_auc_train': 0.9285297620995189, 'roc_auc_val': 0.8522268889180558, 'accuracy': 0.7442189712128362, 'sensitivity': 0.8333333333333334, 'specificity': 0.7391521197007481, 'FalsePos': 523, 'TruePos': 95, 'FalseNeg': 19, 'TrueNeg': 1482}\n"
     ]
    }
   ],
   "source": [
    "# declare grid search parameters\n",
    "rf_params = {'n_estimators':[100, 150, 190], \n",
    "             'class_weight': ['balanced'],\n",
    "             'max_depth':[4, 5, 6],\n",
    "             'random_state':[42]}\n",
    "\n",
    "# Initialize the model\n",
    "rf_model = RandomForestClassifier()\n",
    "\n",
    "best_params_rf, best_model_rf, metrics_rf = model_builder(rf_model, rf_params)\n",
    "\n",
    "print(best_params_rf)\n",
    "print(metrics_rf)"
   ]
  },
  {
   "cell_type": "markdown",
   "id": "l9OoFGe6X5Hy",
   "metadata": {
    "id": "l9OoFGe6X5Hy"
   },
   "source": [
    "### Ada Boost"
   ]
  },
  {
   "cell_type": "code",
   "execution_count": 29,
   "id": "JNW7Qv0MYCLV",
   "metadata": {
    "colab": {
     "base_uri": "https://localhost:8080/"
    },
    "executionInfo": {
     "elapsed": 83823,
     "status": "ok",
     "timestamp": 1617805358663,
     "user": {
      "displayName": "arti jariwala",
      "photoUrl": "",
      "userId": "10618144149736080393"
     },
     "user_tz": -480
    },
    "id": "JNW7Qv0MYCLV",
    "outputId": "797667a0-e402-4959-f604-d4777992b3dc"
   },
   "outputs": [
    {
     "name": "stdout",
     "output_type": "stream",
     "text": [
      "{'learning_rate': 0.3, 'n_estimators': 200, 'random_state': 42}\n",
      "{'roc_auc_train': 0.926052785072445, 'roc_auc_val': 0.8414599466246664, 'accuracy': 0.7824445493157149, 'sensitivity': 0.7192982456140351, 'specificity': 0.7860349127182045, 'FalsePos': 429, 'TruePos': 82, 'FalseNeg': 32, 'TrueNeg': 1576}\n"
     ]
    }
   ],
   "source": [
    "# declare grid search parameters\n",
    "ada_params = {'learning_rate': [0.1, 0.2, 0.3],\n",
    "              'n_estimators': [100, 150, 200],\n",
    "              'random_state': [42]}\n",
    "\n",
    "# Initialize the model\n",
    "ada_model = AdaBoostClassifier()\n",
    "\n",
    "best_params_ada, best_model_ada, metrics_ada = model_builder(ada_model, ada_params)\n",
    "\n",
    "print(best_params_ada)\n",
    "print(metrics_ada)"
   ]
  },
  {
   "cell_type": "markdown",
   "id": "wW4jJAPbiIyM",
   "metadata": {
    "id": "wW4jJAPbiIyM"
   },
   "source": [
    "### Gradient Boost"
   ]
  },
  {
   "cell_type": "code",
   "execution_count": 30,
   "id": "sUo5UGj-hE05",
   "metadata": {
    "colab": {
     "base_uri": "https://localhost:8080/"
    },
    "executionInfo": {
     "elapsed": 982498,
     "status": "ok",
     "timestamp": 1617806375418,
     "user": {
      "displayName": "arti jariwala",
      "photoUrl": "",
      "userId": "10618144149736080393"
     },
     "user_tz": -480
    },
    "id": "sUo5UGj-hE05",
    "outputId": "10986f68-8b58-4f7d-822b-9097cbebf117"
   },
   "outputs": [
    {
     "name": "stdout",
     "output_type": "stream",
     "text": [
      "{'learning_rate': 0.3, 'max_depth': 4, 'n_estimators': 300, 'random_state': 42}\n",
      "{'roc_auc_train': 0.9990870852495461, 'roc_auc_val': 0.8464190401190008, 'accuracy': 0.9301557338367155, 'sensitivity': 0.23684210526315788, 'specificity': 0.9695760598503741, 'FalsePos': 61, 'TruePos': 27, 'FalseNeg': 87, 'TrueNeg': 1944}\n"
     ]
    }
   ],
   "source": [
    "# declare grid search parameters\n",
    "gb_params = {'learning_rate': [0.2, 0.3, 0.5],\n",
    "             'max_depth': [3, 4, 5],\n",
    "             'n_estimators': [100, 150, 200, 300],\n",
    "             'random_state': [42]}\n",
    "\n",
    "# Initialize the model\n",
    "gb_model = GradientBoostingClassifier()\n",
    "\n",
    "best_params_gb, best_model_gb, metrics_gb = model_builder(gb_model, gb_params)\n",
    "\n",
    "print(best_params_gb)\n",
    "print(metrics_gb)"
   ]
  },
  {
   "cell_type": "markdown",
   "id": "TX7PVh3cYJ7w",
   "metadata": {
    "id": "TX7PVh3cYJ7w"
   },
   "source": [
    "### Extra Tress"
   ]
  },
  {
   "cell_type": "code",
   "execution_count": 31,
   "id": "vmAjlK2gYJWI",
   "metadata": {
    "colab": {
     "base_uri": "https://localhost:8080/"
    },
    "executionInfo": {
     "elapsed": 49729,
     "status": "ok",
     "timestamp": 1617806459057,
     "user": {
      "displayName": "arti jariwala",
      "photoUrl": "",
      "userId": "10618144149736080393"
     },
     "user_tz": -480
    },
    "id": "vmAjlK2gYJWI",
    "outputId": "9cc118cb-ed5b-493d-8174-82f36dc97538"
   },
   "outputs": [
    {
     "name": "stdout",
     "output_type": "stream",
     "text": [
      "{'max_depth': 6, 'max_features': 'sqrt', 'n_estimators': 150, 'random_state': 42}\n",
      "{'roc_auc_train': 0.8972989505608295, 'roc_auc_val': 0.8526993918711991, 'accuracy': 0.7272298253893346, 'sensitivity': 0.8508771929824561, 'specificity': 0.7201995012468828, 'FalsePos': 561, 'TruePos': 97, 'FalseNeg': 17, 'TrueNeg': 1444}\n"
     ]
    }
   ],
   "source": [
    "# declare grid search parameters\n",
    "et_params = {'n_estimators': [50, 100,150,200],\n",
    "             'max_depth': [4, 5, 6],\n",
    "             'max_features': ['sqrt', 'log2'],\n",
    "             'random_state': [42]\n",
    "            }\n",
    "\n",
    "# Initiatize the model\n",
    "et_model = ExtraTreesClassifier()\n",
    "\n",
    "best_params_et, best_model_et, metrics_et = model_builder(et_model, et_params)\n",
    "\n",
    "print(best_params_et)\n",
    "print(metrics_et)"
   ]
  },
  {
   "cell_type": "markdown",
   "id": "ey6hwPfqYlxt",
   "metadata": {
    "id": "ey6hwPfqYlxt"
   },
   "source": [
    "### Comparing the models"
   ]
  },
  {
   "cell_type": "code",
   "execution_count": 38,
   "id": "--dxtkv5YrR6",
   "metadata": {
    "colab": {
     "base_uri": "https://localhost:8080/"
    },
    "executionInfo": {
     "elapsed": 996,
     "status": "ok",
     "timestamp": 1617809127175,
     "user": {
      "displayName": "arti jariwala",
      "photoUrl": "",
      "userId": "10618144149736080393"
     },
     "user_tz": -480
    },
    "id": "--dxtkv5YrR6",
    "outputId": "e831f619-afaf-415d-ac4e-0e7b898a0244"
   },
   "outputs": [
    {
     "name": "stdout",
     "output_type": "stream",
     "text": [
      "                       Roc Auc Train    Roc Auc Validation    Accuracy    Sensitivity    Specificity    Test Roc Auc Score\n",
      "-------------------  ---------------  --------------------  ----------  -------------  -------------  --------------------\n",
      "Logistic Regression         0.832118              0.826303    0.754386       0.705736       0.708353               0.71408\n",
      "Random Forest               0.92853               0.852227    0.833333       0.739152       0.744219               0.73149\n",
      "Ada Boost                   0.926053              0.84146     0.719298       0.786035       0.782445               0.74243\n",
      "Extra Trees                 0.897299              0.852699    0.850877       0.7202         0.72723                0.74114\n",
      "Gradient Boost              0.999087              0.846419    0.236842       0.969576       0.930156               0.71217\n"
     ]
    }
   ],
   "source": [
    "scores = [['Logistic Regression', metrics_lr['roc_auc_train'], metrics_lr['roc_auc_val'], \n",
    "           metrics_lr['sensitivity'], metrics_lr['specificity'], metrics_lr['accuracy'], '0.71408'],\n",
    "          ['Random Forest', metrics_rf['roc_auc_train'], metrics_rf['roc_auc_val'],  \n",
    "           metrics_rf['sensitivity'], metrics_rf['specificity'], metrics_rf['accuracy'], '0.73149'],\n",
    "          ['Ada Boost', metrics_ada['roc_auc_train'], metrics_ada['roc_auc_val'], \n",
    "           metrics_ada['sensitivity'], metrics_ada['specificity'], metrics_ada['accuracy'], '0.74243'],\n",
    "          ['Extra Trees', metrics_et['roc_auc_train'], metrics_et['roc_auc_val'], \n",
    "           metrics_et['sensitivity'], metrics_et['specificity'], metrics_et['accuracy'], '0.74114'],\n",
    "          ['Gradient Boost', metrics_gb['roc_auc_train'], metrics_gb['roc_auc_val'], \n",
    "           metrics_gb['sensitivity'], metrics_gb['specificity'], metrics_gb['accuracy'], '0.71217']]\n",
    "print (tabulate(scores, headers=[\"\", \"Roc Auc Train\", \"Roc Auc Validation\", \"Accuracy\", 'Sensitivity', 'Specificity', 'Test Roc Auc Score']))"
   ]
  },
  {
   "cell_type": "markdown",
   "id": "CvI537LLglpM",
   "metadata": {
    "id": "CvI537LLglpM"
   },
   "source": [
    "- If we compare the models, Gradient Boost have the highest roc auc but it scores very poorly for accuracy. Moreover, the train and test roc auc score indicates overfitting.\n",
    "- Other models does seem to perform efficiently in terms of overfitting. \n",
    "- Random Forest and Ada Boost perform pretty well for roc auc scores in comparison to Logistic Regression and Extra Trees. \n",
    "- The sensitivity (True Positive) of Ada Boost is higher than Random Forest, however we would like to analyze in more detail by plotting ROC curve."
   ]
  },
  {
   "cell_type": "code",
   "execution_count": 33,
   "id": "vSxC2wOjXen4",
   "metadata": {
    "colab": {
     "base_uri": "https://localhost:8080/",
     "height": 326
    },
    "executionInfo": {
     "elapsed": 2156,
     "status": "ok",
     "timestamp": 1617806502189,
     "user": {
      "displayName": "arti jariwala",
      "photoUrl": "",
      "userId": "10618144149736080393"
     },
     "user_tz": -480
    },
    "id": "vSxC2wOjXen4",
    "outputId": "163f950c-f7ef-4a17-a816-65c4bac59ae0"
   },
   "outputs": [
    {
     "data": {
      "text/plain": [
       "<Figure size 1440x1080 with 0 Axes>"
      ]
     },
     "metadata": {
      "tags": []
     },
     "output_type": "display_data"
    },
    {
     "data": {
      "image/png": "[encoded data removed]",
      "text/plain": [
       "<Figure size 432x288 with 1 Axes>"
      ]
     },
     "metadata": {
      "needs_background": "light",
      "tags": []
     },
     "output_type": "display_data"
    }
   ],
   "source": [
    "plt.figure(figsize=(20,15))\n",
    "lr_disp = plot_roc_curve(best_model_lr, X_val_sc, y_val)\n",
    "rf_disp = plot_roc_curve(best_model_rf, X_val_sc, y_val, ax=lr_disp.ax_)\n",
    "et_disp = plot_roc_curve(best_model_et, X_val_sc, y_val, ax=lr_disp.ax_)\n",
    "ada_disp = plot_roc_curve(best_model_ada, X_val_sc, y_val, ax=lr_disp.ax_)\n",
    "ada_disp.figure_.suptitle(\"ROC curve comparison\");"
   ]
  },
  {
   "cell_type": "markdown",
   "id": "cHQLtNZBimcl",
   "metadata": {
    "id": "cHQLtNZBimcl"
   },
   "source": [
    "From the above ROC we can clearly see that Random Forest performs the best out of all the other models. As mentioned previously, the higher the AUC, the model is able to perform more efficiently in classifying the data.\n",
    "\n",
    "Aside from comparing the AUC which determines how well our model separates the true positives and true negatives, we would further like to compare our models based on Precision and Sensitivity(Recall)."
   ]
  },
  {
   "cell_type": "code",
   "execution_count": 35,
   "id": "eI77KAp8-DLL",
   "metadata": {
    "executionInfo": {
     "elapsed": 978,
     "status": "ok",
     "timestamp": 1617807007763,
     "user": {
      "displayName": "arti jariwala",
      "photoUrl": "",
      "userId": "10618144149736080393"
     },
     "user_tz": -480
    },
    "id": "eI77KAp8-DLL"
   },
   "outputs": [],
   "source": [
    "def plot_sensitivity_precision(model, label, ax):\n",
    "  conf_matrix = []\n",
    "\n",
    "  for threshold in np.linspace(0, .5, 25):\n",
    "    y_preds = (model.predict_proba(X_val_sc)[:, 1] > threshold).astype('float')\n",
    "    tn, fp, fn, tp = confusion_matrix(y_val, y_preds).ravel()\n",
    "    sensitivity = tp/(tp + fn)\n",
    "    precision = tp/(tp + fp)\n",
    "    conf_matrix.append([threshold, sensitivity, precision])\n",
    "                   \n",
    "    matrix = pd.DataFrame(conf_matrix, columns=['threshold', 'sensitivity', 'precision'])    \n",
    "\n",
    "  #plt.plot(data=matrix, x='precision', y='sensitivity', ax=ax)\n",
    "  ax.plot(matrix['precision'], matrix['sensitivity'], label=label)\n",
    "  ax.set_xlabel('Precision')\n",
    "  ax.set_ylabel('Sensitivity')"
   ]
  },
  {
   "cell_type": "code",
   "execution_count": 36,
   "id": "B4WZ4WDj-_bq",
   "metadata": {
    "colab": {
     "base_uri": "https://localhost:8080/",
     "height": 388
    },
    "executionInfo": {
     "elapsed": 6887,
     "status": "ok",
     "timestamp": 1617807016411,
     "user": {
      "displayName": "arti jariwala",
      "photoUrl": "",
      "userId": "10618144149736080393"
     },
     "user_tz": -480
    },
    "id": "B4WZ4WDj-_bq",
    "outputId": "62e2b19d-4753-4c3d-c432-87c0673bd5f2"
   },
   "outputs": [
    {
     "data": {
      "image/png": "[encoded data removed]",
      "text/plain": [
       "<Figure size 720x432 with 1 Axes>"
      ]
     },
     "metadata": {
      "needs_background": "light",
      "tags": []
     },
     "output_type": "display_data"
    }
   ],
   "source": [
    "fig, ax = plt.subplots(figsize=(10, 6))\n",
    "\n",
    "plot_sensitivity_precision(best_model_lr, 'Logistic Regression', ax)\n",
    "plot_sensitivity_precision(best_model_rf, 'Random Forest', ax)\n",
    "plot_sensitivity_precision(best_model_ada, 'Ada Boost', ax)\n",
    "plot_sensitivity_precision(best_model_et, 'Extra Trees',ax)\n",
    "ax.legend(fontsize=14);"
   ]
  },
  {
   "cell_type": "markdown",
   "id": "barr73ibjHk5",
   "metadata": {
    "id": "barr73ibjHk5"
   },
   "source": [
    "The above plot shows the trade-off between Precision and Sensitivity. High precision relates to low false positive rate and high sensitivity/recall relates to low false negetive rate.\n",
    "\n",
    "Random forest has a quite uniform and high Precision over different rates along with maintaining high sensitivity.\n",
    "\n",
    "Hence we can conclude that Random forest performs the best and is our chosen model for predicting the Westnile Virus."
   ]
  },
  {
   "cell_type": "markdown",
   "id": "uTfSbpvTuNQi",
   "metadata": {
    "id": "uTfSbpvTuNQi"
   },
   "source": [
    "### Feature Importance"
   ]
  },
  {
   "cell_type": "code",
   "execution_count": 39,
   "id": "6H4E_p1DYq5R",
   "metadata": {
    "executionInfo": {
     "elapsed": 1098,
     "status": "ok",
     "timestamp": 1617809138128,
     "user": {
      "displayName": "arti jariwala",
      "photoUrl": "",
      "userId": "10618144149736080393"
     },
     "user_tz": -480
    },
    "id": "6H4E_p1DYq5R"
   },
   "outputs": [],
   "source": [
    "# coefs / features here \n",
    "# Assuming we have random forest as our final model , need to test this\n",
    "def top10_features(best_model, title):\n",
    "    feature_imp = best_model.feature_importances_\n",
    "\n",
    "    feature_imp_df = pd.DataFrame([X.columns, feature_imp])\n",
    "    \n",
    "    plt.figure(figsize=(10,8))\n",
    "    sns.barplot(data=feature_imp_df.T.sort_values(by=1, ascending=False), y=0, x=1, orient='h', palette='coolwarm')"
   ]
  },
  {
   "cell_type": "code",
   "execution_count": 40,
   "id": "962plR6Krydf",
   "metadata": {
    "colab": {
     "base_uri": "https://localhost:8080/",
     "height": 497
    },
    "executionInfo": {
     "elapsed": 1972,
     "status": "ok",
     "timestamp": 1617809141369,
     "user": {
      "displayName": "arti jariwala",
      "photoUrl": "",
      "userId": "10618144149736080393"
     },
     "user_tz": -480
    },
    "id": "962plR6Krydf",
    "outputId": "0d07b890-35e7-47c2-f78c-e5fe43c820a7"
   },
   "outputs": [
    {
     "data": {
      "image/png": "[encoded data removed]",
      "text/plain": [
       "<Figure size 720x576 with 1 Axes>"
      ]
     },
     "metadata": {
      "needs_background": "light",
      "tags": []
     },
     "output_type": "display_data"
    }
   ],
   "source": [
    "top10_features(best_model_rf, 'Feature Importance');"
   ]
  },
  {
   "cell_type": "markdown",
   "id": "XI8SM1_48M1L",
   "metadata": {
    "id": "XI8SM1_48M1L"
   },
   "source": [
    "- Infection rate seems to be one of the most important feature.\n",
    "- As we initially though, DarkHours turned out to be in the top features for predicting the virus. Sunrise and Sunset were also among them.\n",
    "- \n"
   ]
  },
  {
   "cell_type": "markdown",
   "id": "l430wkkDX7gC",
   "metadata": {
    "id": "l430wkkDX7gC"
   },
   "source": [
    "### Final Predictions"
   ]
  },
  {
   "cell_type": "code",
   "execution_count": 24,
   "id": "cVjUjhOvYEfT",
   "metadata": {
    "executionInfo": {
     "elapsed": 1033,
     "status": "ok",
     "timestamp": 1617803703867,
     "user": {
      "displayName": "arti jariwala",
      "photoUrl": "",
      "userId": "10618144149736080393"
     },
     "user_tz": -480
    },
    "id": "cVjUjhOvYEfT"
   },
   "outputs": [],
   "source": [
    "# scaling the test data\n",
    "\n",
    "ss = StandardScaler()\n",
    "X_test = test.drop(columns=['Id'])\n",
    "\n",
    "train_sc = ss.fit_transform(X)\n",
    "X_test_sc = ss.transform(X_test)"
   ]
  },
  {
   "cell_type": "code",
   "execution_count": 25,
   "id": "tMDMO0-DC6yA",
   "metadata": {
    "colab": {
     "base_uri": "https://localhost:8080/"
    },
    "executionInfo": {
     "elapsed": 1287,
     "status": "ok",
     "timestamp": 1617803706584,
     "user": {
      "displayName": "arti jariwala",
      "photoUrl": "",
      "userId": "10618144149736080393"
     },
     "user_tz": -480
    },
    "id": "tMDMO0-DC6yA",
    "outputId": "8cfac1fb-4dfb-4bf7-f814-b04228a6aed0"
   },
   "outputs": [
    {
     "data": {
      "text/plain": [
       "RandomForestClassifier(bootstrap=True, ccp_alpha=0.0, class_weight='balanced',\n",
       "                       criterion='gini', max_depth=6, max_features='auto',\n",
       "                       max_leaf_nodes=None, max_samples=None,\n",
       "                       min_impurity_decrease=0.0, min_impurity_split=None,\n",
       "                       min_samples_leaf=1, min_samples_split=2,\n",
       "                       min_weight_fraction_leaf=0.0, n_estimators=100,\n",
       "                       n_jobs=None, oob_score=False, random_state=42, verbose=0,\n",
       "                       warm_start=False)"
      ]
     },
     "execution_count": 25,
     "metadata": {
      "tags": []
     },
     "output_type": "execute_result"
    }
   ],
   "source": [
    "best_model_rf.fit(train_sc, y)"
   ]
  },
  {
   "cell_type": "code",
   "execution_count": 26,
   "id": "t_DzMADCYMM5",
   "metadata": {
    "executionInfo": {
     "elapsed": 1864,
     "status": "ok",
     "timestamp": 1617803711299,
     "user": {
      "displayName": "arti jariwala",
      "photoUrl": "",
      "userId": "10618144149736080393"
     },
     "user_tz": -480
    },
    "id": "t_DzMADCYMM5"
   },
   "outputs": [],
   "source": [
    "# Predicting test data\n",
    "predictions = best_model_rf.predict_proba(X_test_sc)[:,1]\n",
    "pred_df = pd.DataFrame({'Id': test['Id'], 'WnvPresent': predictions})"
   ]
  },
  {
   "cell_type": "code",
   "execution_count": null,
   "id": "yVZalTicYYI_",
   "metadata": {
    "colab": {
     "base_uri": "https://localhost:8080/",
     "height": 230
    },
    "executionInfo": {
     "elapsed": 1376,
     "status": "ok",
     "timestamp": 1617720357487,
     "user": {
      "displayName": "arti jariwala",
      "photoUrl": "",
      "userId": "10618144149736080393"
     },
     "user_tz": -480
    },
    "id": "yVZalTicYYI_",
    "outputId": "0f87a31d-52f7-48e0-88d4-16a341fab7cd"
   },
   "outputs": [
    {
     "data": {
      "text/html": [
       "<div>\n",
       "<style scoped>\n",
       "    .dataframe tbody tr th:only-of-type {\n",
       "        vertical-align: middle;\n",
       "    }\n",
       "\n",
       "    .dataframe tbody tr th {\n",
       "        vertical-align: top;\n",
       "    }\n",
       "\n",
       "    .dataframe thead th {\n",
       "        text-align: right;\n",
       "    }\n",
       "</style>\n",
       "<table border=\"1\" class=\"dataframe\">\n",
       "  <thead>\n",
       "    <tr style=\"text-align: right;\">\n",
       "      <th></th>\n",
       "      <th>Id</th>\n",
       "      <th>WnvPresent</th>\n",
       "    </tr>\n",
       "    <tr>\n",
       "      <th>Date</th>\n",
       "      <th></th>\n",
       "      <th></th>\n",
       "    </tr>\n",
       "  </thead>\n",
       "  <tbody>\n",
       "    <tr>\n",
       "      <th>2008-06-11</th>\n",
       "      <td>1</td>\n",
       "      <td>0.002408</td>\n",
       "    </tr>\n",
       "    <tr>\n",
       "      <th>2008-06-11</th>\n",
       "      <td>2</td>\n",
       "      <td>0.002408</td>\n",
       "    </tr>\n",
       "    <tr>\n",
       "      <th>2008-06-11</th>\n",
       "      <td>3</td>\n",
       "      <td>0.002408</td>\n",
       "    </tr>\n",
       "    <tr>\n",
       "      <th>2008-06-11</th>\n",
       "      <td>4</td>\n",
       "      <td>0.002408</td>\n",
       "    </tr>\n",
       "    <tr>\n",
       "      <th>2008-06-11</th>\n",
       "      <td>5</td>\n",
       "      <td>0.002408</td>\n",
       "    </tr>\n",
       "  </tbody>\n",
       "</table>\n",
       "</div>"
      ],
      "text/plain": [
       "            Id  WnvPresent\n",
       "Date                      \n",
       "2008-06-11   1    0.002408\n",
       "2008-06-11   2    0.002408\n",
       "2008-06-11   3    0.002408\n",
       "2008-06-11   4    0.002408\n",
       "2008-06-11   5    0.002408"
      ]
     },
     "execution_count": 42,
     "metadata": {
      "tags": []
     },
     "output_type": "execute_result"
    }
   ],
   "source": [
    "pred_df.head()"
   ]
  },
  {
   "cell_type": "code",
   "execution_count": 28,
   "id": "xMuHm9nHnfFn",
   "metadata": {
    "colab": {
     "base_uri": "https://localhost:8080/",
     "height": 17
    },
    "executionInfo": {
     "elapsed": 1438,
     "status": "ok",
     "timestamp": 1617803932647,
     "user": {
      "displayName": "arti jariwala",
      "photoUrl": "",
      "userId": "10618144149736080393"
     },
     "user_tz": -480
    },
    "id": "xMuHm9nHnfFn",
    "outputId": "8c0a7cd5-6256-45d6-e53f-157ebc79eb12"
   },
   "outputs": [
    {
     "data": {
      "application/javascript": [
       "\n",
       "    async function download(id, filename, size) {\n",
       "      if (!google.colab.kernel.accessAllowed) {\n",
       "        return;\n",
       "      }\n",
       "      const div = document.createElement('div');\n",
       "      const label = document.createElement('label');\n",
       "      label.textContent = `Downloading \"${filename}\": `;\n",
       "      div.appendChild(label);\n",
       "      const progress = document.createElement('progress');\n",
       "      progress.max = size;\n",
       "      div.appendChild(progress);\n",
       "      document.body.appendChild(div);\n",
       "\n",
       "      const buffers = [];\n",
       "      let downloaded = 0;\n",
       "\n",
       "      const channel = await google.colab.kernel.comms.open(id);\n",
       "      // Send a message to notify the kernel that we're ready.\n",
       "      channel.send({})\n",
       "\n",
       "      for await (const message of channel.messages) {\n",
       "        // Send a message to notify the kernel that we're ready.\n",
       "        channel.send({})\n",
       "        if (message.buffers) {\n",
       "          for (const buffer of message.buffers) {\n",
       "            buffers.push(buffer);\n",
       "            downloaded += buffer.byteLength;\n",
       "            progress.value = downloaded;\n",
       "          }\n",
       "        }\n",
       "      }\n",
       "      const blob = new Blob(buffers, {type: 'application/binary'});\n",
       "      const a = document.createElement('a');\n",
       "      a.href = window.URL.createObjectURL(blob);\n",
       "      a.download = filename;\n",
       "      div.appendChild(a);\n",
       "      a.click();\n",
       "      div.remove();\n",
       "    }\n",
       "  "
      ],
      "text/plain": [
       "<IPython.core.display.Javascript object>"
      ]
     },
     "metadata": {
      "tags": []
     },
     "output_type": "display_data"
    },
    {
     "data": {
      "application/javascript": [
       "download(\"download_bb4a2431-209c-4ebb-91cd-2b17fe77d84d\", \"predict_prob.csv\", 2621870)"
      ],
      "text/plain": [
       "<IPython.core.display.Javascript object>"
      ]
     },
     "metadata": {
      "tags": []
     },
     "output_type": "display_data"
    }
   ],
   "source": [
    "preds = pd.DataFrame({'PredProb': predictions, 'Week_Of_Year': X_test['week_of_year']})\n",
    "preds.to_csv('predict_prob.csv', index=False)\n",
    "files.download('predict_prob.csv')"
   ]
  },
  {
   "cell_type": "code",
   "execution_count": null,
   "id": "DBYsbPAHYP3m",
   "metadata": {
    "colab": {
     "base_uri": "https://localhost:8080/",
     "height": 17
    },
    "executionInfo": {
     "elapsed": 1151,
     "status": "ok",
     "timestamp": 1617720360766,
     "user": {
      "displayName": "arti jariwala",
      "photoUrl": "",
      "userId": "10618144149736080393"
     },
     "user_tz": -480
    },
    "id": "DBYsbPAHYP3m",
    "outputId": "326aa79f-a7db-41bd-b158-2d20c33e065b"
   },
   "outputs": [
    {
     "data": {
      "application/javascript": [
       "\n",
       "    async function download(id, filename, size) {\n",
       "      if (!google.colab.kernel.accessAllowed) {\n",
       "        return;\n",
       "      }\n",
       "      const div = document.createElement('div');\n",
       "      const label = document.createElement('label');\n",
       "      label.textContent = `Downloading \"${filename}\": `;\n",
       "      div.appendChild(label);\n",
       "      const progress = document.createElement('progress');\n",
       "      progress.max = size;\n",
       "      div.appendChild(progress);\n",
       "      document.body.appendChild(div);\n",
       "\n",
       "      const buffers = [];\n",
       "      let downloaded = 0;\n",
       "\n",
       "      const channel = await google.colab.kernel.comms.open(id);\n",
       "      // Send a message to notify the kernel that we're ready.\n",
       "      channel.send({})\n",
       "\n",
       "      for await (const message of channel.messages) {\n",
       "        // Send a message to notify the kernel that we're ready.\n",
       "        channel.send({})\n",
       "        if (message.buffers) {\n",
       "          for (const buffer of message.buffers) {\n",
       "            buffers.push(buffer);\n",
       "            downloaded += buffer.byteLength;\n",
       "            progress.value = downloaded;\n",
       "          }\n",
       "        }\n",
       "      }\n",
       "      const blob = new Blob(buffers, {type: 'application/binary'});\n",
       "      const a = document.createElement('a');\n",
       "      a.href = window.URL.createObjectURL(blob);\n",
       "      a.download = filename;\n",
       "      div.appendChild(a);\n",
       "      a.click();\n",
       "      div.remove();\n",
       "    }\n",
       "  "
      ],
      "text/plain": [
       "<IPython.core.display.Javascript object>"
      ]
     },
     "metadata": {
      "tags": []
     },
     "output_type": "display_data"
    },
    {
     "data": {
      "application/javascript": [
       "download(\"download_e6934e37-0c18-42d8-8f56-5a80c4096ad0\", \"submission.csv\", 3261129)"
      ],
      "text/plain": [
       "<IPython.core.display.Javascript object>"
      ]
     },
     "metadata": {
      "tags": []
     },
     "output_type": "display_data"
    }
   ],
   "source": [
    "# Exporting the data to a file to submit to kaggle\n",
    "pred_df.to_csv('submission.csv', index=False)\n",
    "files.download('submission.csv')"
   ]
  },
  {
   "cell_type": "markdown",
   "id": "9rUs4tQZmhe3",
   "metadata": {
    "id": "9rUs4tQZmhe3"
   },
   "source": [
    "# Cost and Benefit Analysis"
   ]
  },
  {
   "cell_type": "markdown",
   "id": "2lA3MZiLmP7o",
   "metadata": {
    "id": "2lA3MZiLmP7o"
   },
   "source": [
    "  In 2005, a WNV outbreak in [California](https://www.ncbi.nlm.nih.gov/pmc/articles/PMC3322011/) occured in Sacramento County with 163 human cases. About 2.28 million were spent on medical treatment and patients' productivity loss for both WNF(West Nile Fever) and WNND(West Nile Neuroinvasive Disease). \n",
    "Vector control cost approximately \\\\$710790, including spray procedures and overtime hours. \n",
    "The total economic impact of WNV was $2.98 million. A cost-benefit analysis indicated that only 15 cases of West Nile neuroinvasive disease would need to be prevented to make the \temergency spray cost-effective.\n",
    "\n",
    "  Using population-based methods to estimate the costs of WNV from the healthcare payer perspective, it is found that healthcare resource utilisation is elevated across all phases of care attributable to WNV infections and WNND syndromes.High costs of treatment underscore the importance of evaluating the cost effectiveness of WNV and other mosquito-borne disease prevention through vector control strategies (e.g., draining surface water, larviciding) and novel vaccinations to inform healthcare resource allocation in [Ontario](https://bmcinfectdis.biomedcentral.com/articles/10.1186/s12879-019-4596-9).\n",
    "\n",
    "  A research team determined the cost of initial hospitalisation for 80 patients during a 2003 outbreak in [Colorado](https://www.sciencedaily.com/releases/2014/02/140210184713.htm). For a subset of these patients, they then calculated costs of additional related medical care and missed work incurred in the 5 years after the initial infection. To estimate the total cost of WNV disease to the nation, the research team extrapolated those costs to the total number of hospitalised cases of WNV disease reported to CDC since 1999. Those findings suggest an annual burden of $56 million in the United States.\n"
   ]
  }
 ],
 "metadata": {
  "accelerator": "GPU",
  "colab": {
   "collapsed_sections": [],
   "name": "Modelling.ipynb",
   "provenance": [],
   "toc_visible": true
  },
  "kernelspec": {
   "display_name": "Python 3",
   "language": "python",
   "name": "python3"
  },
  "language_info": {
   "codemirror_mode": {
    "name": "ipython",
    "version": 3
   },
   "file_extension": ".py",
   "mimetype": "text/x-python",
   "name": "python",
   "nbconvert_exporter": "python",
   "pygments_lexer": "ipython3",
   "version": "3.8.5"
  }
 },
 "nbformat": 4,
 "nbformat_minor": 5
}
